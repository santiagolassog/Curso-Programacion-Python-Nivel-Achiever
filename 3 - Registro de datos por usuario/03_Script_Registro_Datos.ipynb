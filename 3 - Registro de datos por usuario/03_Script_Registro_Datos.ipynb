{
  "nbformat": 4,
  "nbformat_minor": 0,
  "metadata": {
    "colab": {
      "provenance": [],
      "collapsed_sections": [
        "uQOha2n8Iu3c",
        "9bsFZApk-sNY",
        "HcrWuM-xyEVW",
        "w6doHo2gmOyz"
      ]
    },
    "kernelspec": {
      "name": "python3",
      "display_name": "Python 3"
    },
    "language_info": {
      "name": "python"
    }
  },
  "cells": [
    {
      "cell_type": "markdown",
      "source": [
        "# **1. Librería: Documentación e Instalación**"
      ],
      "metadata": {
        "id": "uQOha2n8Iu3c"
      }
    },
    {
      "cell_type": "markdown",
      "source": [
        "**Página pypi:** https://pypi.org/project/ColabTurtlePlus/\n",
        "\n",
        "**Documentación:** https://larryriddle.agnesscott.org/ColabTurtlePlus/documentation2.html"
      ],
      "metadata": {
        "id": "uIh5m5fUdQfa"
      }
    },
    {
      "cell_type": "code",
      "source": [
        "# Intalación de librería\n",
        "!pip install ColabTurtlePlus\n",
        "\n",
        "# Importación de librería\n",
        "import ColabTurtlePlus.Turtle as t"
      ],
      "metadata": {
        "id": "_DYSvBSHHgL1",
        "colab": {
          "base_uri": "https://localhost:8080/"
        },
        "outputId": "dcfea40f-0a43-4b75-ffbf-8322c4addd72"
      },
      "execution_count": 21,
      "outputs": [
        {
          "output_type": "stream",
          "name": "stdout",
          "text": [
            "Requirement already satisfied: ColabTurtlePlus in /usr/local/lib/python3.10/dist-packages (2.0.1)\n"
          ]
        }
      ]
    },
    {
      "cell_type": "markdown",
      "source": [
        "# **2. Registro y manejo de datos**"
      ],
      "metadata": {
        "id": "9bsFZApk-sNY"
      }
    },
    {
      "cell_type": "markdown",
      "source": [
        "**La bandera:** Le pediremos al usuario que ingrese tres colores y guarde su entrada en las variables `color1`, `color2` y `color3` respectivamente, y usaremos el script proporcionado para dibujar una bandera con los colores personalizados."
      ],
      "metadata": {
        "id": "9OwX3KHQ-xkf"
      }
    },
    {
      "cell_type": "code",
      "source": [
        "import ColabTurtlePlus.Turtle as t\n",
        "\n",
        "\"\"\"---------------------------------\n",
        "# Configuración de ventana\n",
        "---------------------------------\"\"\"\n",
        "t.clearscreen()\n",
        "t.setup(500,300)\n",
        "t.speed(10)\n",
        "\n",
        "\"\"\"---------------------------------\n",
        "# Declaración de variables\n",
        "---------------------------------\"\"\"\n",
        "ancho = 400\n",
        "alto = 85\n",
        "alto2 = 50\n",
        "\n",
        "# Cores: Amarillo '#FFCD00' | Azul '#003087' | Rojo '#C8102E'\n",
        "t.up()\n",
        "t.goto(-200,100)\n",
        "t.down()\n",
        "\n",
        "# Interacción con el usuario\n",
        "color1 = input(\"Digita el primer color: \")\n",
        "color2 = input(\"Digita el segundo color: \")\n",
        "color3 = input(\"Digita el tercer color: \")\n",
        "\n",
        "#t.fillcolor('#FFCD00')\n",
        "t.fillcolor(color1)\n",
        "\"\"\"---------------------------------\n",
        "# Primer color de la bandera\n",
        "---------------------------------\"\"\"\n",
        "t.begin_fill()\n",
        "t.fd(ancho)\n",
        "t.rt(90)\n",
        "t.fd(alto)\n",
        "t.rt(90)\n",
        "t.fd(ancho)\n",
        "t.rt(90)\n",
        "t.fd(alto)\n",
        "t.end_fill()\n",
        "\n",
        "t.up()\n",
        "t.goto(-200,15)\n",
        "t.down()\n",
        "t.rt(90)\n",
        "\n",
        "#t.fillcolor('#003087')\n",
        "t.fillcolor(color2)\n",
        "\"\"\"---------------------------------\n",
        "# Segundo color de la bandera\n",
        "---------------------------------\"\"\"\n",
        "t.begin_fill()\n",
        "t.fd(ancho)\n",
        "t.rt(90)\n",
        "t.fd(alto2)\n",
        "t.rt(90)\n",
        "t.fd(ancho)\n",
        "t.rt(90)\n",
        "t.fd(alto2)\n",
        "t.end_fill()\n",
        "\n",
        "t.up()\n",
        "t.goto(-200,-35)\n",
        "t.down()\n",
        "t.rt(90)\n",
        "\n",
        "#t.fillcolor('#C8102E')\n",
        "t.fillcolor(color3)\n",
        "\"\"\"---------------------------------\n",
        "# Tercer color de la bandera\n",
        "---------------------------------\"\"\"\n",
        "t.begin_fill()\n",
        "t.fd(ancho)\n",
        "t.rt(90)\n",
        "t.fd(alto2)\n",
        "t.rt(90)\n",
        "t.fd(ancho)\n",
        "t.rt(90)\n",
        "t.fd(alto2)\n",
        "t.end_fill()\n",
        "\n",
        "t.ht()"
      ],
      "metadata": {
        "id": "mgsfrXQMpZ1x",
        "colab": {
          "base_uri": "https://localhost:8080/",
          "height": 373
        },
        "outputId": "c849498e-44d7-4b98-eea7-8110bee70f2e"
      },
      "execution_count": null,
      "outputs": [
        {
          "output_type": "display_data",
          "data": {
            "text/plain": [
              "<IPython.core.display.HTML object>"
            ],
            "text/html": [
              "\n",
              "      <svg width=\"500\" height=\"300\">  \n",
              "        <rect width=\"100%\" height=\"100%\" style=\"fill:white;stroke:;stroke-width:1\"/>\n",
              "        \n",
              "        \n",
              "        <path fill-rule=\"evenodd\" fill-opacity=\"1\" d=\"M 50.0 50.0  L 450.0 50.0  L 450.0 135.0  L 50.0 135.0  L 50.0 50.0 \" stroke-linecap=\"round\" style=\"stroke:black;stroke-width:1\" fill=\"green\" /><path fill-rule=\"evenodd\" fill-opacity=\"1\" d=\"M 50.0 135.0  L 450.0 135.0  L 450.0 185.0  L 50.0 185.0  L 50.0 135.0 \" stroke-linecap=\"round\" style=\"stroke:black;stroke-width:1\" fill=\"blue\" /><path fill-rule=\"evenodd\" fill-opacity=\"1\" d=\"M 50.0 185.0  L 450.0 185.0  L 450.0 235.0  L 50.0 235.0  L 50.0 185.0 \" stroke-linecap=\"round\" style=\"stroke:black;stroke-width:1\" fill=\"red\" />\n",
              "        \n",
              "        \n",
              "        <g id=\"classic\" visibility=\"hidden\" transform=\"rotate(180,50.0,185.0) translate(50.0, 185.0)\">\n",
              "<polygon points=\"-5,-4.5 0,-2.5 5,-4.5 0,4.5\" transform=\"skewX(0) scale(1,1)\" style=\"stroke:black;fill:red;stroke-width:1\" />\n",
              "</g>\n",
              "      </svg>\n",
              "    "
            ]
          },
          "metadata": {}
        },
        {
          "name": "stdout",
          "output_type": "stream",
          "text": [
            "Digita el primer color: green\n",
            "Digita el segundo color: blue\n",
            "Digita el tercer color: red\n"
          ]
        }
      ]
    },
    {
      "cell_type": "markdown",
      "source": [
        "# **3. Operaciones entre strings y números**"
      ],
      "metadata": {
        "id": "HcrWuM-xyEVW"
      }
    },
    {
      "cell_type": "markdown",
      "source": [
        "Ingresa el \"número de veces\" que deseas que se dibuje el barco en la consola. Para hacer esto, usa la función `input()` y convierte la variable de `str` a `int`.\n",
        "\n",
        "**Referencia:** https://fsymbols.com/text-art/"
      ],
      "metadata": {
        "id": "8Pg1BfGH15O0"
      }
    },
    {
      "cell_type": "code",
      "source": [
        "# FORMA 1: Línea a línea\n",
        "veces = int(input('Cuántas veces deseas mostrar el barco en pantalla: '))\n",
        "print(type(veces))\n",
        "\n",
        "a = '───│─────────────────────────────────────'\n",
        "b = '───│────────▄▄───▄▄───▄▄───▄▄───────│────'\n",
        "c = '───▌────────▒▒───▒▒───▒▒───▒▒───────▌────'\n",
        "d = '───▌──────▄▀█▀█▀█▀█▀█▀█▀█▀█▀█▀▄─────▌────'\n",
        "e = '───▌────▄▀▄▀▄▀▄▀▄▀▄▀▄▀▄▀▄▀▄▀▄▀▄▀▄───▋────'\n",
        "f = '▀██████████████████████████████████████▄─'\n",
        "g = '──▀███████████████████████████████████▀──'\n",
        "h = '─────▀██████████████████████████████▀────'\n",
        "i = '▒▒▒▒▒▒▒▒▒▒▒▒▒▒▒▒▒▒▒▒▒▒▒▒▒▒▒▒▒▒▒▒▒▒▒▒▒▒▒▒▒'\n",
        "j = '▒▒▒▒▒▒▒▒▒▒▒▒▒▒▒▒▒▒▒▒▒▒▒▒▒▒▒▒▒▒▒▒▒▒▒▒▒▒▒▒▒'\n",
        "k = '▒▒▒▒▒▒▒▒▒▒▒▒▒▒▒▒▒▒▒▒▒▒▒▒▒▒▒▒▒▒▒▒▒▒▒▒▒▒▒▒▒'\n",
        "\n",
        "print(a*veces)\n",
        "print(b*veces)\n",
        "print(c*veces)\n",
        "print(d*veces)\n",
        "print(e*veces)\n",
        "print(f*veces)\n",
        "print(g*veces)\n",
        "print(h*veces)\n",
        "print(i*veces)\n",
        "print(j*veces)\n",
        "print(k*veces)"
      ],
      "metadata": {
        "id": "_A36pIf6yDjW",
        "colab": {
          "base_uri": "https://localhost:8080/"
        },
        "outputId": "abba007d-2ac0-4798-b5e7-c026ffe3d87f"
      },
      "execution_count": null,
      "outputs": [
        {
          "output_type": "stream",
          "name": "stdout",
          "text": [
            "Cuántas veces deseas mostrar el barco en pantalla: 3\n",
            "<class 'int'>\n",
            "───│────────────────────────────────────────│────────────────────────────────────────│─────────────────────────────────────\n",
            "───│────────▄▄───▄▄───▄▄───▄▄───────│───────│────────▄▄───▄▄───▄▄───▄▄───────│───────│────────▄▄───▄▄───▄▄───▄▄───────│────\n",
            "───▌────────▒▒───▒▒───▒▒───▒▒───────▌───────▌────────▒▒───▒▒───▒▒───▒▒───────▌───────▌────────▒▒───▒▒───▒▒───▒▒───────▌────\n",
            "───▌──────▄▀█▀█▀█▀█▀█▀█▀█▀█▀█▀▄─────▌───────▌──────▄▀█▀█▀█▀█▀█▀█▀█▀█▀█▀▄─────▌───────▌──────▄▀█▀█▀█▀█▀█▀█▀█▀█▀█▀▄─────▌────\n",
            "───▌────▄▀▄▀▄▀▄▀▄▀▄▀▄▀▄▀▄▀▄▀▄▀▄▀▄───▋───────▌────▄▀▄▀▄▀▄▀▄▀▄▀▄▀▄▀▄▀▄▀▄▀▄▀▄───▋───────▌────▄▀▄▀▄▀▄▀▄▀▄▀▄▀▄▀▄▀▄▀▄▀▄▀▄───▋────\n",
            "▀██████████████████████████████████████▄─▀██████████████████████████████████████▄─▀██████████████████████████████████████▄─\n",
            "──▀███████████████████████████████████▀────▀███████████████████████████████████▀────▀███████████████████████████████████▀──\n",
            "─────▀██████████████████████████████▀─────────▀██████████████████████████████▀─────────▀██████████████████████████████▀────\n",
            "▒▒▒▒▒▒▒▒▒▒▒▒▒▒▒▒▒▒▒▒▒▒▒▒▒▒▒▒▒▒▒▒▒▒▒▒▒▒▒▒▒▒▒▒▒▒▒▒▒▒▒▒▒▒▒▒▒▒▒▒▒▒▒▒▒▒▒▒▒▒▒▒▒▒▒▒▒▒▒▒▒▒▒▒▒▒▒▒▒▒▒▒▒▒▒▒▒▒▒▒▒▒▒▒▒▒▒▒▒▒▒▒▒▒▒▒▒▒▒▒▒▒▒\n",
            "▒▒▒▒▒▒▒▒▒▒▒▒▒▒▒▒▒▒▒▒▒▒▒▒▒▒▒▒▒▒▒▒▒▒▒▒▒▒▒▒▒▒▒▒▒▒▒▒▒▒▒▒▒▒▒▒▒▒▒▒▒▒▒▒▒▒▒▒▒▒▒▒▒▒▒▒▒▒▒▒▒▒▒▒▒▒▒▒▒▒▒▒▒▒▒▒▒▒▒▒▒▒▒▒▒▒▒▒▒▒▒▒▒▒▒▒▒▒▒▒▒▒▒\n",
            "▒▒▒▒▒▒▒▒▒▒▒▒▒▒▒▒▒▒▒▒▒▒▒▒▒▒▒▒▒▒▒▒▒▒▒▒▒▒▒▒▒▒▒▒▒▒▒▒▒▒▒▒▒▒▒▒▒▒▒▒▒▒▒▒▒▒▒▒▒▒▒▒▒▒▒▒▒▒▒▒▒▒▒▒▒▒▒▒▒▒▒▒▒▒▒▒▒▒▒▒▒▒▒▒▒▒▒▒▒▒▒▒▒▒▒▒▒▒▒▒▒▒▒\n"
          ]
        }
      ]
    },
    {
      "cell_type": "code",
      "source": [
        "# FORMA 2: String extendido\n",
        "veces = int(input('Cuántas veces deseas mostrar el barco en pantalla: '))\n",
        "\n",
        "barco = \"\"\"\n",
        "───│─────────────────────────────────────'\n",
        "───│────────▄▄───▄▄───▄▄───▄▄───────│────'\n",
        "───▌────────▒▒───▒▒───▒▒───▒▒───────▌────'\n",
        "───▌──────▄▀█▀█▀█▀█▀█▀█▀█▀█▀█▀▄─────▌────'\n",
        "───▌────▄▀▄▀▄▀▄▀▄▀▄▀▄▀▄▀▄▀▄▀▄▀▄▀▄───▋────'\n",
        "▀██████████████████████████████████████▄─'\n",
        "──▀███████████████████████████████████▀──'\n",
        "─────▀██████████████████████████████▀────'\n",
        "▒▒▒▒▒▒▒▒▒▒▒▒▒▒▒▒▒▒▒▒▒▒▒▒▒▒▒▒▒▒▒▒▒▒▒▒▒▒▒▒▒'\n",
        "▒▒▒▒▒▒▒▒▒▒▒▒▒▒▒▒▒▒▒▒▒▒▒▒▒▒▒▒▒▒▒▒▒▒▒▒▒▒▒▒▒'\n",
        "▒▒▒▒▒▒▒▒▒▒▒▒▒▒▒▒▒▒▒▒▒▒▒▒▒▒▒▒▒▒▒▒▒▒▒▒▒▒▒▒▒'\n",
        "\"\"\"\n",
        "\n",
        "print(barco * veces)"
      ],
      "metadata": {
        "id": "46xzQmUrlZLd",
        "colab": {
          "base_uri": "https://localhost:8080/"
        },
        "outputId": "0b1a2aa1-8908-4887-e7a7-3364abb3deaf"
      },
      "execution_count": null,
      "outputs": [
        {
          "output_type": "stream",
          "name": "stdout",
          "text": [
            "Cuántas veces deseas mostrar el barco en pantalla: 8\n",
            "\n",
            "───│─────────────────────────────────────'\n",
            "───│────────▄▄───▄▄───▄▄───▄▄───────│────'\n",
            "───▌────────▒▒───▒▒───▒▒───▒▒───────▌────'\n",
            "───▌──────▄▀█▀█▀█▀█▀█▀█▀█▀█▀█▀▄─────▌────'\n",
            "───▌────▄▀▄▀▄▀▄▀▄▀▄▀▄▀▄▀▄▀▄▀▄▀▄▀▄───▋────'\n",
            "▀██████████████████████████████████████▄─'\n",
            "──▀███████████████████████████████████▀──'\n",
            "─────▀██████████████████████████████▀────'\n",
            "▒▒▒▒▒▒▒▒▒▒▒▒▒▒▒▒▒▒▒▒▒▒▒▒▒▒▒▒▒▒▒▒▒▒▒▒▒▒▒▒▒'\n",
            "▒▒▒▒▒▒▒▒▒▒▒▒▒▒▒▒▒▒▒▒▒▒▒▒▒▒▒▒▒▒▒▒▒▒▒▒▒▒▒▒▒'\n",
            "▒▒▒▒▒▒▒▒▒▒▒▒▒▒▒▒▒▒▒▒▒▒▒▒▒▒▒▒▒▒▒▒▒▒▒▒▒▒▒▒▒'\n",
            "\n",
            "───│─────────────────────────────────────'\n",
            "───│────────▄▄───▄▄───▄▄───▄▄───────│────'\n",
            "───▌────────▒▒───▒▒───▒▒───▒▒───────▌────'\n",
            "───▌──────▄▀█▀█▀█▀█▀█▀█▀█▀█▀█▀▄─────▌────'\n",
            "───▌────▄▀▄▀▄▀▄▀▄▀▄▀▄▀▄▀▄▀▄▀▄▀▄▀▄───▋────'\n",
            "▀██████████████████████████████████████▄─'\n",
            "──▀███████████████████████████████████▀──'\n",
            "─────▀██████████████████████████████▀────'\n",
            "▒▒▒▒▒▒▒▒▒▒▒▒▒▒▒▒▒▒▒▒▒▒▒▒▒▒▒▒▒▒▒▒▒▒▒▒▒▒▒▒▒'\n",
            "▒▒▒▒▒▒▒▒▒▒▒▒▒▒▒▒▒▒▒▒▒▒▒▒▒▒▒▒▒▒▒▒▒▒▒▒▒▒▒▒▒'\n",
            "▒▒▒▒▒▒▒▒▒▒▒▒▒▒▒▒▒▒▒▒▒▒▒▒▒▒▒▒▒▒▒▒▒▒▒▒▒▒▒▒▒'\n",
            "\n",
            "───│─────────────────────────────────────'\n",
            "───│────────▄▄───▄▄───▄▄───▄▄───────│────'\n",
            "───▌────────▒▒───▒▒───▒▒───▒▒───────▌────'\n",
            "───▌──────▄▀█▀█▀█▀█▀█▀█▀█▀█▀█▀▄─────▌────'\n",
            "───▌────▄▀▄▀▄▀▄▀▄▀▄▀▄▀▄▀▄▀▄▀▄▀▄▀▄───▋────'\n",
            "▀██████████████████████████████████████▄─'\n",
            "──▀███████████████████████████████████▀──'\n",
            "─────▀██████████████████████████████▀────'\n",
            "▒▒▒▒▒▒▒▒▒▒▒▒▒▒▒▒▒▒▒▒▒▒▒▒▒▒▒▒▒▒▒▒▒▒▒▒▒▒▒▒▒'\n",
            "▒▒▒▒▒▒▒▒▒▒▒▒▒▒▒▒▒▒▒▒▒▒▒▒▒▒▒▒▒▒▒▒▒▒▒▒▒▒▒▒▒'\n",
            "▒▒▒▒▒▒▒▒▒▒▒▒▒▒▒▒▒▒▒▒▒▒▒▒▒▒▒▒▒▒▒▒▒▒▒▒▒▒▒▒▒'\n",
            "\n",
            "───│─────────────────────────────────────'\n",
            "───│────────▄▄───▄▄───▄▄───▄▄───────│────'\n",
            "───▌────────▒▒───▒▒───▒▒───▒▒───────▌────'\n",
            "───▌──────▄▀█▀█▀█▀█▀█▀█▀█▀█▀█▀▄─────▌────'\n",
            "───▌────▄▀▄▀▄▀▄▀▄▀▄▀▄▀▄▀▄▀▄▀▄▀▄▀▄───▋────'\n",
            "▀██████████████████████████████████████▄─'\n",
            "──▀███████████████████████████████████▀──'\n",
            "─────▀██████████████████████████████▀────'\n",
            "▒▒▒▒▒▒▒▒▒▒▒▒▒▒▒▒▒▒▒▒▒▒▒▒▒▒▒▒▒▒▒▒▒▒▒▒▒▒▒▒▒'\n",
            "▒▒▒▒▒▒▒▒▒▒▒▒▒▒▒▒▒▒▒▒▒▒▒▒▒▒▒▒▒▒▒▒▒▒▒▒▒▒▒▒▒'\n",
            "▒▒▒▒▒▒▒▒▒▒▒▒▒▒▒▒▒▒▒▒▒▒▒▒▒▒▒▒▒▒▒▒▒▒▒▒▒▒▒▒▒'\n",
            "\n",
            "───│─────────────────────────────────────'\n",
            "───│────────▄▄───▄▄───▄▄───▄▄───────│────'\n",
            "───▌────────▒▒───▒▒───▒▒───▒▒───────▌────'\n",
            "───▌──────▄▀█▀█▀█▀█▀█▀█▀█▀█▀█▀▄─────▌────'\n",
            "───▌────▄▀▄▀▄▀▄▀▄▀▄▀▄▀▄▀▄▀▄▀▄▀▄▀▄───▋────'\n",
            "▀██████████████████████████████████████▄─'\n",
            "──▀███████████████████████████████████▀──'\n",
            "─────▀██████████████████████████████▀────'\n",
            "▒▒▒▒▒▒▒▒▒▒▒▒▒▒▒▒▒▒▒▒▒▒▒▒▒▒▒▒▒▒▒▒▒▒▒▒▒▒▒▒▒'\n",
            "▒▒▒▒▒▒▒▒▒▒▒▒▒▒▒▒▒▒▒▒▒▒▒▒▒▒▒▒▒▒▒▒▒▒▒▒▒▒▒▒▒'\n",
            "▒▒▒▒▒▒▒▒▒▒▒▒▒▒▒▒▒▒▒▒▒▒▒▒▒▒▒▒▒▒▒▒▒▒▒▒▒▒▒▒▒'\n",
            "\n",
            "───│─────────────────────────────────────'\n",
            "───│────────▄▄───▄▄───▄▄───▄▄───────│────'\n",
            "───▌────────▒▒───▒▒───▒▒───▒▒───────▌────'\n",
            "───▌──────▄▀█▀█▀█▀█▀█▀█▀█▀█▀█▀▄─────▌────'\n",
            "───▌────▄▀▄▀▄▀▄▀▄▀▄▀▄▀▄▀▄▀▄▀▄▀▄▀▄───▋────'\n",
            "▀██████████████████████████████████████▄─'\n",
            "──▀███████████████████████████████████▀──'\n",
            "─────▀██████████████████████████████▀────'\n",
            "▒▒▒▒▒▒▒▒▒▒▒▒▒▒▒▒▒▒▒▒▒▒▒▒▒▒▒▒▒▒▒▒▒▒▒▒▒▒▒▒▒'\n",
            "▒▒▒▒▒▒▒▒▒▒▒▒▒▒▒▒▒▒▒▒▒▒▒▒▒▒▒▒▒▒▒▒▒▒▒▒▒▒▒▒▒'\n",
            "▒▒▒▒▒▒▒▒▒▒▒▒▒▒▒▒▒▒▒▒▒▒▒▒▒▒▒▒▒▒▒▒▒▒▒▒▒▒▒▒▒'\n",
            "\n",
            "───│─────────────────────────────────────'\n",
            "───│────────▄▄───▄▄───▄▄───▄▄───────│────'\n",
            "───▌────────▒▒───▒▒───▒▒───▒▒───────▌────'\n",
            "───▌──────▄▀█▀█▀█▀█▀█▀█▀█▀█▀█▀▄─────▌────'\n",
            "───▌────▄▀▄▀▄▀▄▀▄▀▄▀▄▀▄▀▄▀▄▀▄▀▄▀▄───▋────'\n",
            "▀██████████████████████████████████████▄─'\n",
            "──▀███████████████████████████████████▀──'\n",
            "─────▀██████████████████████████████▀────'\n",
            "▒▒▒▒▒▒▒▒▒▒▒▒▒▒▒▒▒▒▒▒▒▒▒▒▒▒▒▒▒▒▒▒▒▒▒▒▒▒▒▒▒'\n",
            "▒▒▒▒▒▒▒▒▒▒▒▒▒▒▒▒▒▒▒▒▒▒▒▒▒▒▒▒▒▒▒▒▒▒▒▒▒▒▒▒▒'\n",
            "▒▒▒▒▒▒▒▒▒▒▒▒▒▒▒▒▒▒▒▒▒▒▒▒▒▒▒▒▒▒▒▒▒▒▒▒▒▒▒▒▒'\n",
            "\n",
            "───│─────────────────────────────────────'\n",
            "───│────────▄▄───▄▄───▄▄───▄▄───────│────'\n",
            "───▌────────▒▒───▒▒───▒▒───▒▒───────▌────'\n",
            "───▌──────▄▀█▀█▀█▀█▀█▀█▀█▀█▀█▀▄─────▌────'\n",
            "───▌────▄▀▄▀▄▀▄▀▄▀▄▀▄▀▄▀▄▀▄▀▄▀▄▀▄───▋────'\n",
            "▀██████████████████████████████████████▄─'\n",
            "──▀███████████████████████████████████▀──'\n",
            "─────▀██████████████████████████████▀────'\n",
            "▒▒▒▒▒▒▒▒▒▒▒▒▒▒▒▒▒▒▒▒▒▒▒▒▒▒▒▒▒▒▒▒▒▒▒▒▒▒▒▒▒'\n",
            "▒▒▒▒▒▒▒▒▒▒▒▒▒▒▒▒▒▒▒▒▒▒▒▒▒▒▒▒▒▒▒▒▒▒▒▒▒▒▒▒▒'\n",
            "▒▒▒▒▒▒▒▒▒▒▒▒▒▒▒▒▒▒▒▒▒▒▒▒▒▒▒▒▒▒▒▒▒▒▒▒▒▒▒▒▒'\n",
            "\n"
          ]
        }
      ]
    },
    {
      "cell_type": "markdown",
      "source": [
        "# **4. Ejercicios prácticos**"
      ],
      "metadata": {
        "id": "w6doHo2gmOyz"
      }
    },
    {
      "cell_type": "markdown",
      "source": [
        "**1. Conversor de divisas:** Solicita al usuario que ingrese una cantidad de dinero en dólares, y convierte esta cantidad a la moneda de tu país utilizando el tipo de cambio actual. Muestra el resultado en la consola."
      ],
      "metadata": {
        "id": "n3VUJ_yro-Q2"
      }
    },
    {
      "cell_type": "markdown",
      "source": [
        "![Conversor.png](data:image/png;base64,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)\n",
        "\n"
      ],
      "metadata": {
        "id": "DXbrtcymoflN"
      }
    },
    {
      "cell_type": "code",
      "source": [
        "# 1) Solicitar al usuario que digite la cantidad de USD que desea convertir\n",
        "dolares = float(input(\"Digita la cantidad de dólares que deseas convertir: \"))\n",
        "print(type(dolares))\n",
        "\n",
        "# 2) Convertir la cantidad a la moneda local\n",
        "conversion = dolares * 854.75\n",
        "\n",
        "# 3) Mostrar el resultado en la consola\n",
        "print(\"La cantidad ingresada de USD\",dolares,\"corresponde a \",conversion,\"pesos argentinos\")"
      ],
      "metadata": {
        "id": "-kruidkdo9n3",
        "colab": {
          "base_uri": "https://localhost:8080/"
        },
        "outputId": "02aae59e-9035-4e91-ebaf-a7a725034d73"
      },
      "execution_count": null,
      "outputs": [
        {
          "output_type": "stream",
          "name": "stdout",
          "text": [
            "Digita la cantidad de dólares que deseas convertir: 900.75\n",
            "<class 'float'>\n",
            "La cantidad ingresada de USD 900.75 corresponde a  769916.0625 pesos argentinos\n"
          ]
        }
      ]
    },
    {
      "cell_type": "markdown",
      "source": [
        "**2. Colorea la figura:** Crea un programa que le pida al usuario `2 colores`, y posteriormente dibuje un triángulo dentro de un cuadrado, tal como se muestra en la siguiente figura."
      ],
      "metadata": {
        "id": "W3w3j-ACqFE_"
      }
    },
    {
      "cell_type": "markdown",
      "source": [
        "![Figura.png](data:image/png;base64,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)"
      ],
      "metadata": {
        "id": "pFbhq_N1sxPW"
      }
    },
    {
      "cell_type": "code",
      "source": [
        "# Configuración de ventana\n",
        "t.clearscreen()\n",
        "t.setup(300,300)\n",
        "t.speed(10)\n",
        "\n",
        "# Variables\n",
        "lineas = 200\n",
        "color_cuadrado = input(\"Digita el color del cuadrado: \")\n",
        "color_triangulo = input(\"Digita el color del triángulo: \")\n",
        "\n",
        "# Dibujo cuadrado\n",
        "t.jumpto(-100,100)\n",
        "t.color(color_cuadrado)\n",
        "t.fillcolor(color_cuadrado)\n",
        "t.begin_fill()\n",
        "t.fd(lineas)\n",
        "t.rt(90)\n",
        "t.fd(lineas)\n",
        "t.rt(90)\n",
        "t.fd(lineas)\n",
        "t.rt(90)\n",
        "t.fd(lineas)\n",
        "t.rt(90)\n",
        "t.end_fill()\n",
        "\n",
        "# Dibujo triángulo\n",
        "t.color(color_triangulo)\n",
        "t.fillcolor(color_triangulo)\n",
        "t.jumpto(-100,-100)\n",
        "t.begin_fill()\n",
        "t.lt(60)\n",
        "t.fd(lineas)\n",
        "t.rt(120)\n",
        "t.fd(lineas)\n",
        "t.rt(120)\n",
        "t.fd(lineas)\n",
        "t.end_fill()\n",
        "\n",
        "# Fin del dibujo\n",
        "t.ht()"
      ],
      "metadata": {
        "colab": {
          "base_uri": "https://localhost:8080/",
          "height": 356
        },
        "id": "gO26gbH91MB-",
        "outputId": "5598e15b-0f87-4871-e293-b1f9b2f3f562"
      },
      "execution_count": 23,
      "outputs": [
        {
          "output_type": "display_data",
          "data": {
            "text/plain": [
              "<IPython.core.display.HTML object>"
            ],
            "text/html": [
              "\n",
              "      <svg width=\"300\" height=\"300\">  \n",
              "        <rect width=\"100%\" height=\"100%\" style=\"fill:white;stroke:;stroke-width:1\"/>\n",
              "        \n",
              "        \n",
              "        <path fill-rule=\"evenodd\" fill-opacity=\"1\" d=\"M 50.0 50.0  L 250.0 50.0  L 250.0 250.0  L 50.0 250.0  L 50.0 50.0 \" stroke-linecap=\"round\" style=\"stroke:green;stroke-width:1\" fill=\"green\" /><path fill-rule=\"evenodd\" fill-opacity=\"1\" d=\"M 50.0 250.0  L 150.0 76.795  L 250.0 250.0  L 50.0 250.0 \" stroke-linecap=\"round\" style=\"stroke:yellow;stroke-width:1\" fill=\"yellow\" />\n",
              "        \n",
              "        \n",
              "        <g id=\"classic\" visibility=\"hidden\" transform=\"rotate(90,50.0,250.0) translate(50.0, 250.0)\">\n",
              "<polygon points=\"-5,-4.5 0,-2.5 5,-4.5 0,4.5\" transform=\"skewX(0) scale(1,1)\" style=\"stroke:yellow;fill:yellow;stroke-width:1\" />\n",
              "</g>\n",
              "      </svg>\n",
              "    "
            ]
          },
          "metadata": {}
        },
        {
          "name": "stdout",
          "output_type": "stream",
          "text": [
            "Digita el color del cuadrado: green\n",
            "Digita el color del triángulo: yellow\n"
          ]
        }
      ]
    }
  ]
}