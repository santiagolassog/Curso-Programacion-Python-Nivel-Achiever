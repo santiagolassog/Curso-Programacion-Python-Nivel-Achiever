{
  "nbformat": 4,
  "nbformat_minor": 0,
  "metadata": {
    "colab": {
      "provenance": []
    },
    "kernelspec": {
      "name": "python3",
      "display_name": "Python 3"
    },
    "language_info": {
      "name": "python"
    }
  },
  "cells": [
    {
      "cell_type": "code",
      "execution_count": null,
      "metadata": {
        "id": "hes4VQuZuaKb"
      },
      "outputs": [],
      "source": [
        "# Intalación de librería\n",
        "!pip install ColabTurtlePlus\n",
        "\n",
        "# Importación de librería\n",
        "import ColabTurtlePlus.Turtle as t"
      ]
    },
    {
      "cell_type": "code",
      "source": [
        "# Configuración de ventana\n",
        "t.clearscreen()\n",
        "t.setup(300,300)\n",
        "t.speed(10)\n",
        "\n",
        "# Variables\n",
        "lineas = 200\n",
        "\n",
        "# Dibujo cuadrado\n",
        "t.jumpto(-100,100)\n",
        "t.color(\"red\")\n",
        "t.fillcolor(\"red\")\n",
        "t.begin_fill()\n",
        "t.fd(lineas)\n",
        "t.rt(90)\n",
        "t.fd(lineas)\n",
        "t.rt(90)\n",
        "t.fd(lineas)\n",
        "t.rt(90)\n",
        "t.fd(lineas)\n",
        "t.rt(90)\n",
        "t.end_fill()\n",
        "\n",
        "# Dibujo triángulo\n",
        "t.color(\"cyan\")\n",
        "t.fillcolor(\"cyan\")\n",
        "t.jumpto(-100,-100)\n",
        "t.begin_fill()\n",
        "t.lt(60)\n",
        "t.fd(lineas)\n",
        "t.rt(120)\n",
        "t.fd(lineas)\n",
        "t.rt(120)\n",
        "t.fd(lineas)\n",
        "t.end_fill()\n",
        "\n",
        "# Fin del dibujo\n",
        "t.ht()"
      ],
      "metadata": {
        "colab": {
          "base_uri": "https://localhost:8080/",
          "height": 321
        },
        "id": "0TJfVsIduhHD",
        "outputId": "c5c280d6-7240-41e9-dda6-03dca34aca1c"
      },
      "execution_count": 5,
      "outputs": [
        {
          "output_type": "display_data",
          "data": {
            "text/plain": [
              "<IPython.core.display.HTML object>"
            ],
            "text/html": [
              "\n",
              "      <svg width=\"300\" height=\"300\">  \n",
              "        <rect width=\"100%\" height=\"100%\" style=\"fill:white;stroke:;stroke-width:1\"/>\n",
              "        \n",
              "        \n",
              "        <path fill-rule=\"evenodd\" fill-opacity=\"1\" d=\"M 50.0 50.0  L 250.0 50.0  L 250.0 250.0  L 50.0 250.0  L 50.0 50.0 \" stroke-linecap=\"round\" style=\"stroke:red;stroke-width:1\" fill=\"red\" /><path fill-rule=\"evenodd\" fill-opacity=\"1\" d=\"M 50.0 250.0  L 150.0 76.795  L 250.0 250.0  L 50.0 250.0 \" stroke-linecap=\"round\" style=\"stroke:cyan;stroke-width:1\" fill=\"cyan\" />\n",
              "        \n",
              "        \n",
              "        <g id=\"classic\" visibility=\"hidden\" transform=\"rotate(90,50.0,250.0) translate(50.0, 250.0)\">\n",
              "<polygon points=\"-5,-4.5 0,-2.5 5,-4.5 0,4.5\" transform=\"skewX(0) scale(1,1)\" style=\"stroke:cyan;fill:cyan;stroke-width:1\" />\n",
              "</g>\n",
              "      </svg>\n",
              "    "
            ]
          },
          "metadata": {}
        }
      ]
    }
  ]
}