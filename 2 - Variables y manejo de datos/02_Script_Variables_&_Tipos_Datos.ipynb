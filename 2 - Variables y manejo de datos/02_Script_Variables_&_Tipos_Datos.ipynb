{
  "nbformat": 4,
  "nbformat_minor": 0,
  "metadata": {
    "colab": {
      "provenance": [],
      "collapsed_sections": [
        "uQOha2n8Iu3c",
        "R945JyxvBYTL",
        "HcrWuM-xyEVW",
        "HPYnIQv-BLOF",
        "Rbu-u5gqgTDG",
        "WmFvLyWScx70",
        "FTDD2qaRVIpn",
        "t5rtSf1BXObe",
        "AObIJUtAsho7"
      ]
    },
    "kernelspec": {
      "name": "python3",
      "display_name": "Python 3"
    },
    "language_info": {
      "name": "python"
    }
  },
  "cells": [
    {
      "cell_type": "markdown",
      "source": [
        "# **1. Librería: Documentación e Instalación**"
      ],
      "metadata": {
        "id": "uQOha2n8Iu3c"
      }
    },
    {
      "cell_type": "markdown",
      "source": [
        "**Página pypi:** https://pypi.org/project/ColabTurtlePlus/\n",
        "\n",
        "**Documentación:** https://larryriddle.agnesscott.org/ColabTurtlePlus/documentation2.html"
      ],
      "metadata": {
        "id": "FrcCyBNqnkjU"
      }
    },
    {
      "cell_type": "code",
      "source": [
        "# Intalación de librería\n",
        "!pip install ColabTurtlePlus\n",
        "\n",
        "# Importación de librería:\n",
        "import ColabTurtlePlus.Turtle as t"
      ],
      "metadata": {
        "id": "_DYSvBSHHgL1",
        "colab": {
          "base_uri": "https://localhost:8080/"
        },
        "outputId": "06ed474c-2781-4186-e9ed-f41b913e46b7"
      },
      "execution_count": null,
      "outputs": [
        {
          "output_type": "stream",
          "name": "stdout",
          "text": [
            "Collecting ColabTurtlePlus\n",
            "  Downloading ColabTurtlePlus-2.0.1-py3-none-any.whl (31 kB)\n",
            "Installing collected packages: ColabTurtlePlus\n",
            "Successfully installed ColabTurtlePlus-2.0.1\n",
            "Put clearscreen() as the first line in a cell (after the import command) to re-run turtle commands in the cell\n"
          ]
        }
      ]
    },
    {
      "cell_type": "markdown",
      "source": [
        "# **2. Variables y tipos de datos**"
      ],
      "metadata": {
        "id": "R945JyxvBYTL"
      }
    },
    {
      "cell_type": "markdown",
      "source": [
        "Usando las variables dibujaremos una figura súper interesante. Este programa utiliza variables numéricas (`int`) y de texto (`str`)."
      ],
      "metadata": {
        "id": "E2kDJpsaBhW7"
      }
    },
    {
      "cell_type": "code",
      "source": [
        "# Importación de librería\n",
        "import ColabTurtlePlus.Turtle as t\n",
        "\n",
        "\"\"\"---------------------------------\n",
        "# Declaración de variables generales\n",
        "---------------------------------\"\"\"\n",
        "ancho = 300\n",
        "alto = 300\n",
        "\n",
        "color_fondo = \"sky blue\"\n",
        "color_mar = \"#01449C\"\n",
        "color_barco = \"#8D622F\"\n",
        "color_contorno = \"black\"\n",
        "\n",
        "tam_ventana1 = 10\n",
        "tam_ventana2 = 10\n",
        "color_ventanas = \"white\"\n",
        "\n",
        "color1_bandera = \"yellow\"\n",
        "color2_bandera = \"blue\"\n",
        "color3_bandera = \"red\"\n",
        "\n",
        "texto_final = \"BARCO COLOMBIANO\"\n",
        "color_texto = \"white\"\n",
        "\n",
        "\"\"\"---------------------------------\n",
        "# Configuración de la ventana\n",
        "---------------------------------\"\"\"\n",
        "t.clearscreen()\n",
        "t.setup(ancho,alto)\n",
        "t.bgcolor(color_fondo)\n",
        "t.speed(10)\n",
        "\n",
        "\"\"\"---------------------------------\n",
        "# Dibuja el mar\n",
        "---------------------------------\"\"\"\n",
        "t.color(color_mar)\n",
        "t.up()\n",
        "t.goto(-(ancho/2), -20)\n",
        "t.begin_fill()\n",
        "t.down()\n",
        "t.fd(ancho)\n",
        "t.rt(90)\n",
        "t.fd(alto-20)\n",
        "t.rt(90)\n",
        "t.fd(ancho)\n",
        "t.rt(90)\n",
        "t.rt(90)\n",
        "t.end_fill()\n",
        "\n",
        "\"\"\"---------------------------------\n",
        "# Dibuja el cuerpo del barco\n",
        "---------------------------------\"\"\"\n",
        "t.up()\n",
        "t.color(color_barco)\n",
        "t.pencolor(color_contorno )\n",
        "t.goto(-100, 0)\n",
        "\n",
        "t.begin_fill()\n",
        "t.down()\n",
        "t.fd(200)\n",
        "t.rt(120)\n",
        "t.fd(50)\n",
        "t.rt(60)\n",
        "t.fd(150)\n",
        "t.rt(60)\n",
        "t.fd(50)\n",
        "t.rt(30)\n",
        "t.end_fill()\n",
        "\n",
        "\"\"\"---------------------------------\n",
        "# Dibuja las ventanas inferiores\n",
        "---------------------------------\"\"\"\n",
        "t.up()\n",
        "t.goto(-60, -20)\n",
        "t.dot(tam_ventana1,color_ventanas)\n",
        "\n",
        "t.goto(-30, -20)\n",
        "t.dot(tam_ventana1,color_ventanas)\n",
        "\n",
        "t.goto(0, -20)\n",
        "t.dot(tam_ventana1,color_ventanas)\n",
        "\n",
        "t.goto(30, -20)\n",
        "t.dot(tam_ventana1,color_ventanas)\n",
        "\n",
        "t.goto(60, -20)\n",
        "t.dot(tam_ventana1,color_ventanas)\n",
        "\n",
        "\"\"\"---------------------------------\n",
        "# Dibuja la torre 1\n",
        "---------------------------------\"\"\"\n",
        "t.goto(-40, 0)\n",
        "t.down()\n",
        "t.begin_fill()\n",
        "t.fd(40)\n",
        "t.rt(90)\n",
        "t.fd(15)\n",
        "t.rt(90)\n",
        "t.fd(40)\n",
        "t.rt(180)\n",
        "t.end_fill()\n",
        "\n",
        "\"\"\"---------------------------------\n",
        "# Dibuja la torre 2\n",
        "---------------------------------\"\"\"\n",
        "t.up()\n",
        "t.goto(-10, 0)\n",
        "t.down()\n",
        "t.begin_fill()\n",
        "t.fd(65)\n",
        "t.rt(90)\n",
        "t.fd(30)\n",
        "t.rt(90)\n",
        "t.fd(65)\n",
        "t.rt(180)\n",
        "t.end_fill()\n",
        "\n",
        "\"\"\"---------------------------------\n",
        "# Dibujar la cabina\n",
        "---------------------------------\"\"\"\n",
        "t.begin_fill()\n",
        "t.fd(30)\n",
        "t.rt(90)\n",
        "t.fd(50)\n",
        "t.rt(90)\n",
        "t.fd(30)\n",
        "t.rt(180)\n",
        "t.end_fill()\n",
        "\n",
        "\"\"\"---------------------------------\n",
        "# Dibuja las ventanas de la cabina\n",
        "---------------------------------\"\"\"\n",
        "# Dibuja la ventana 1\n",
        "t.color(color_ventanas)\n",
        "t.up()\n",
        "t.goto(30,20)\n",
        "t.rt(90)\n",
        "t.down()\n",
        "t.begin_fill()\n",
        "t.fd(tam_ventana2)\n",
        "t.rt(90)\n",
        "t.fd(tam_ventana2)\n",
        "t.rt(90)\n",
        "t.fd(tam_ventana2)\n",
        "t.rt(90)\n",
        "t.fd(tam_ventana2)\n",
        "t.rt(90)\n",
        "t.end_fill()\n",
        "\n",
        "# Dibuja la ventana 2\n",
        "t.up()\n",
        "t.goto(60,20)\n",
        "t.rt(90)\n",
        "t.down()\n",
        "t.begin_fill()\n",
        "t.fd(tam_ventana2)\n",
        "t.rt(90)\n",
        "t.fd(tam_ventana2)\n",
        "t.rt(90)\n",
        "t.fd(tam_ventana2)\n",
        "t.rt(90)\n",
        "t.fd(tam_ventana2)\n",
        "t.rt(90)\n",
        "t.rt(180)\n",
        "t.end_fill()\n",
        "\n",
        "\"\"\"---------------------------------\n",
        "# Dibujar bandera\n",
        "---------------------------------\"\"\"\n",
        "t.up()\n",
        "t.pencolor(color_contorno)\n",
        "t.goto(45,30)\n",
        "t.down()\n",
        "t.fd(50)\n",
        "t.rt(90)\n",
        "\n",
        "# Bandera -> Color 1\n",
        "t.color(color1_bandera)\n",
        "t.begin_fill()\n",
        "t.fd(40)\n",
        "t.rt(90)\n",
        "t.fd(15)\n",
        "t.rt(90)\n",
        "t.fd(40)\n",
        "t.end_fill()\n",
        "\n",
        "# Bandera -> Color 2\n",
        "t.rt(180)\n",
        "t.color(color2_bandera)\n",
        "t.begin_fill()\n",
        "t.fd(40)\n",
        "t.rt(90)\n",
        "t.fd(10)\n",
        "t.rt(90)\n",
        "t.fd(40)\n",
        "t.end_fill()\n",
        "\n",
        "# Bandera -> Color 3\n",
        "t.rt(180)\n",
        "t.color(color3_bandera)\n",
        "t.begin_fill()\n",
        "t.fd(40)\n",
        "t.rt(90)\n",
        "t.fd(10)\n",
        "t.rt(90)\n",
        "t.fd(40)\n",
        "t.end_fill()\n",
        "\n",
        "\"\"\"---------------------------------\n",
        "# Dibuja el texto final\n",
        "---------------------------------\"\"\"\n",
        "t.up()\n",
        "t.goto(-65,-65)\n",
        "t.pencolor(color_texto)\n",
        "t.write(texto_final)\n",
        "\n",
        "\"\"\"---------------------------------\n",
        "# Finaliza el dibujo\n",
        "---------------------------------\"\"\"\n",
        "t.ht()"
      ],
      "metadata": {
        "id": "UJ_PlH3Z6BiC"
      },
      "execution_count": null,
      "outputs": []
    },
    {
      "cell_type": "markdown",
      "source": [
        "# **3. Tipos de dados**"
      ],
      "metadata": {
        "id": "HcrWuM-xyEVW"
      }
    },
    {
      "cell_type": "markdown",
      "source": [
        "| Tipo de Dato       | Descripción                                       | Ejemplos                           |\n",
        "|---------------------|-------------------------------------------------|-----------------------------------|\n",
        "| Integers (`int`)    | Números enteros                                | `5`, `-10`, `100`                 |\n",
        "| Flotantes (`float`) | Números decimales         | `3.14`, `2.5`, `-0.75`            |\n",
        "| Strings (`str`)     | Cadenas de texto                    | `\"Hola\"`, `'Python'`, `\"123\"`      |\n",
        "| Booleanos (`bool`)  | Valores lógicos                                 | `True`, `False`                   |\n",
        "| Listas              | Colecciones ordenadas modificables              | `[1, 2, 3]`, `['a', 'b', 'c']`    |\n",
        "| Tuplas              | Colecciones ordenadas inmutables                  | `(1, 2, 3)`, `('a', 'b', 'c')`   |\n",
        "| Diccionarios         | Colecciones no ordenadas de pares clave-valor     | `{'nombre': 'Juan', 'edad': 25}` |\n",
        "| Valor Nulo (`NoneType`) | Representa ausencia de valor o nulo       | `None`                            |\n"
      ],
      "metadata": {
        "id": "xnNqksY9AvFy"
      }
    },
    {
      "cell_type": "markdown",
      "source": [
        "# **4. Operaciones entre tipos de dados**"
      ],
      "metadata": {
        "id": "HPYnIQv-BLOF"
      }
    },
    {
      "cell_type": "markdown",
      "source": [
        "**1. Diferentes tipos de operaciones aritméticas**"
      ],
      "metadata": {
        "id": "4q10eG85GwZc"
      }
    },
    {
      "cell_type": "code",
      "source": [
        "num1 = 10\n",
        "num2 = 5\n",
        "\n",
        "suma = num1 + num2\n",
        "resta = num1 - num2\n",
        "producto = num1 * num2\n",
        "division = num1 / num2\n",
        "\n",
        "print(\"Suma:\", suma)\n",
        "print(\"Resta:\", resta)\n",
        "print(\"Multiplicación:\", producto)\n",
        "print(\"División:\", division)"
      ],
      "metadata": {
        "id": "aAvlh2oF_54I"
      },
      "execution_count": null,
      "outputs": []
    },
    {
      "cell_type": "markdown",
      "source": [
        "**2. Trabajar con diferentes tipos de dados**\n"
      ],
      "metadata": {
        "id": "pqEZ5kYdG0eV"
      }
    },
    {
      "cell_type": "code",
      "source": [
        "nombre = \"Juan\"\n",
        "edad = 25\n",
        "altura = 1.75\n",
        "estudiante = False\n",
        "\n",
        "print(\"Nombre:\", nombre)\n",
        "print(\"Edad:\", edad)\n",
        "print(\"Altura:\", altura)\n",
        "print(\"Estudiante:\", estudiante)"
      ],
      "metadata": {
        "id": "1ktRxfMUGoYr"
      },
      "execution_count": null,
      "outputs": []
    },
    {
      "cell_type": "markdown",
      "source": [
        "# **5. Concatenación y formato de cadenas**"
      ],
      "metadata": {
        "id": "Rbu-u5gqgTDG"
      }
    },
    {
      "cell_type": "code",
      "source": [
        "nombre = \"María\"\n",
        "apellido = \"Gomez\"\n",
        "\n",
        "nombre_completo = nombre + \" \" + apellido\n",
        "mensage = f\"Hola, mi nombre es {nombre} y tengo {edad} años.\"\n",
        "\n",
        "print(\"Nombre completo:\", nombre_completo)\n",
        "print(\"Mensaje:\", mensage)"
      ],
      "metadata": {
        "id": "DnRUJQKNHS-t"
      },
      "execution_count": null,
      "outputs": []
    },
    {
      "cell_type": "code",
      "source": [
        "texto1 = 'Estoy aprendiendo a programar desde cero'\n",
        "texto2 = 'para construir cosas increíbles'\n",
        "\n",
        "print(f'{texto1} {texto2}')"
      ],
      "metadata": {
        "id": "YQbpz8yK6JxP"
      },
      "execution_count": null,
      "outputs": []
    },
    {
      "cell_type": "markdown",
      "source": [
        "# **6. Nuevos comandos con Turtle**"
      ],
      "metadata": {
        "id": "WmFvLyWScx70"
      }
    },
    {
      "cell_type": "markdown",
      "source": [
        "| N°  | Descripción                     | Comando                            | Cómo Usar                                          |\n",
        "|-----|--------------------------------|------------------------------------|----------------------------------------------------|\n",
        "| 1   | Dibujar un punto                | `dot(20, \"rojo\")`                | Dibuja un punto rojo de tamaño 20                  |\n",
        "| 2   | Dibujar un \"sello\"             | `stamp()`                        | Dibuja una copia de la forma de la tortuga (sello) |\n",
        "| 3   | Color de relleno                | `fillcolor()`                      | Define el color de relleno                         |\n",
        "| 4   | Iniciar relleno                 | `begin_fill()`                     | Inicia el relleno coloreado para formas geométricas|\n",
        "| 5   | Finalizar relleno               | `end_fill()`                       | Finaliza el relleno después de dibujar una forma  |\n",
        "| 6   | Dibujar un círculo              | `circle(20)`                     | Dibuja un círculo con un radio de 20 unidades     |\n",
        "| 7   | Mostrar la tortuga              | `showturtle()` o `st()`            | Hace visible la tortuga en la pantalla             |\n",
        "| 8   | Esconder la tortuga             | `hideturtle()` o `ht()`            | Oculta la tortuga en la pantalla                   |\n",
        "| 9   | Saltar a un punto sin animación | `jumpto(x, y)`                     | Mueve la tortuga inmediatamente a las coordenadas |\n",
        "| 10  | Escribir texto en el dibujo     | `write(\"texto\")`          | Escribe un texto con un tipo de fuente definido por el usuario |\n",
        "| 11  | Velocidad de dibujo     | `speed()`          | Define la velocidad de movimiento de la torguga. Entre 0 y 13.|\n"
      ],
      "metadata": {
        "id": "h4lyc0llc01z"
      }
    },
    {
      "cell_type": "code",
      "source": [],
      "metadata": {
        "id": "tvV9gwurmIxP"
      },
      "execution_count": null,
      "outputs": []
    },
    {
      "cell_type": "markdown",
      "source": [
        "# **Ejercicio 1: Tarjeta de Presentación**"
      ],
      "metadata": {
        "id": "FTDD2qaRVIpn"
      }
    },
    {
      "cell_type": "markdown",
      "source": [
        "Escribe un código que te permita `almacenar información de contacto` y generar una tarjeta de presentación como la que se muestra en la figura. Recuerde los principios para dar formato a las `\"cadenas de texto\"`."
      ],
      "metadata": {
        "id": "hHRWphr51_Ar"
      }
    },
    {
      "cell_type": "markdown",
      "source": [
        "![Tarjeta.PNG](data:image/png;base64,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)\n"
      ],
      "metadata": {
        "id": "Eq5SgRHWpm7f"
      }
    },
    {
      "cell_type": "markdown",
      "source": [
        "Toma como referencia los siguientes símbolos:\n",
        "\n",
        "- Esquina superior izquierda: `╔`\n",
        "- Esquina superior derecha:   `╗`\n",
        "- Esquina inferior izquierda: `╚ `\n",
        "- Esquina inferior derecha: `╝`\n",
        "- Línea horizontal 1: `═`\n",
        "- Línea horizontal 2: `─`"
      ],
      "metadata": {
        "id": "fKe9-M4Ppyov"
      }
    },
    {
      "cell_type": "code",
      "source": [],
      "metadata": {
        "id": "zmv1tr9xVKWm"
      },
      "execution_count": null,
      "outputs": []
    },
    {
      "cell_type": "markdown",
      "source": [
        "# **Ejercicio 2: Mario Bros en Píxeles**"
      ],
      "metadata": {
        "id": "t5rtSf1BXObe"
      }
    },
    {
      "cell_type": "markdown",
      "source": [
        "Modifica los colores de las partes del dibujo del famoso y legendario Super Mario Bros, usando como apoyo el nuevo concepto de `variables`. A continuación puedes encontrar el [link del código base](https://github.com/santiagolassog/Curso-Programacion-Python-Nivel-Achiever/blob/302354d12c190d2b420ce6c14457f6b3db98da9d/2%20-%20Variables%20y%20manejo%20de%20datos/Dibujo_Mario_Bros_Pixel.ipynb)."
      ],
      "metadata": {
        "id": "OSewZPSu2B0S"
      }
    },
    {
      "cell_type": "markdown",
      "source": [
        "![Mario Pixel.png](data:image/png;base64,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)"
      ],
      "metadata": {
        "id": "iqiU8cW0Yp9e"
      }
    },
    {
      "cell_type": "code",
      "source": [],
      "metadata": {
        "id": "3Ft_--9_s7Sh"
      },
      "execution_count": null,
      "outputs": []
    },
    {
      "cell_type": "markdown",
      "source": [
        "# **Ejercicio 3: Panel Colorido**"
      ],
      "metadata": {
        "id": "AObIJUtAsho7"
      }
    },
    {
      "cell_type": "markdown",
      "source": [
        "Crea un panel de colores como el mostrado en la figura, usando variables y asegurándote de que cada lado de los hexágonos sea de `30px`. Para lograrlo, puedes crear una ventana de `200x200 px`. **TIP**: puedes comenzar en las coordenadas `(-60,50)`.\n",
        "\n",
        "**Challenge:** Una vez logres dibujar el panel colores como la figura de ejemplo, usa variables para puedas cambiar el tamaño de la ventana y de los hexágonos a tu gusto."
      ],
      "metadata": {
        "id": "JtBPqOYk2E6y"
      }
    },
    {
      "cell_type": "markdown",
      "source": [
        "![Painel.png](data:image/png;base64,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)"
      ],
      "metadata": {
        "id": "_V8CyNVetz8F"
      }
    },
    {
      "cell_type": "markdown",
      "source": [
        "**Colores utilizados en el panel:**\n",
        "\n",
        "- Hexágono Azul (\"#44c0f9\")\n",
        "- Hexágono Amarillo (\"#d9d858\")\n",
        "- Hexágono Rojo (\"#e45f56\")\n",
        "- Hexágono Verde (\"#7ed957\")"
      ],
      "metadata": {
        "id": "6zIxPQhUS7aL"
      }
    },
    {
      "cell_type": "code",
      "source": [],
      "metadata": {
        "id": "UoiACvd71Nz1"
      },
      "execution_count": null,
      "outputs": []
    }
  ]
}